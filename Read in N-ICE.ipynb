{
 "cells": [
  {
   "cell_type": "code",
   "execution_count": 1,
   "metadata": {
    "collapsed": true
   },
   "outputs": [],
   "source": [
    "#Read in N-ICE 2015 data\n",
    "\n",
    "from datetime import datetime, timedelta\n",
    "import numpy as np\n",
    "import json\n",
    "import urllib.request\n",
    "\n",
    "\n",
    "matlab_datenum = 731965.04835648148\n",
    "python_datetime = datetime.fromordinal(int(matlab_datenum)) + timedelta(days=matlab_datenum%1) - timedelta(days = 366)\n"
   ]
  },
  {
   "cell_type": "code",
   "execution_count": 3,
   "metadata": {},
   "outputs": [],
   "source": [
    "#snowdepth from magnaprobe from https://data.npolar.no/dataset/3d72756d-788b-4c49-b0cc-8a345c091020\n",
    "#json files read in with import json functions, as dictionary. \n",
    "#This has 3 dictionaries within the main one dict_keys(['geometry', 'type', 'properties'])\n",
    "\n",
    "save_path='/Volumes/n4_cpdata/scb/SNOW_DATA/NPOLAR/Read_in_magna/'\n",
    "\n",
    "jan_lat=[]\n",
    "feb_lat=[]\n",
    "mar_lat=[]\n",
    "apr_lat=[]\n",
    "may_lat=[]\n",
    "jun_lat=[]\n",
    "jan_lon=[]\n",
    "feb_lon=[]\n",
    "mar_lon=[]\n",
    "apr_lon=[]\n",
    "may_lon=[]\n",
    "jun_lon=[]\n",
    "jan_snow=[]\n",
    "feb_snow=[]\n",
    "mar_snow=[]\n",
    "apr_snow=[]\n",
    "may_snow=[]\n",
    "jun_snow=[]\n",
    "\n",
    "for file in range (1,63):\n",
    "    if file in (17, 28, 31):\n",
    "        continue  #missing data\n",
    "    data = json.load(open('magna/N-ICE2015_snowdepth_'+str(file)+'.json'))\n",
    "    #js = connection.read()\n",
    "    #data = json.loads(js.decode(\"utf-8\"))\n",
    "    coordinates=data[\"geometry\"]['coordinates']\n",
    "    if data['properties']['time'][0][5:7]=='01':\n",
    "        for point in range (0,len(coordinates)):\n",
    "            if data[\"properties\"][\"surface_snow_thickness\"][point]!=None:\n",
    "                jan_lat.append(float(coordinates[point][1]))\n",
    "                jan_lon.append(float(coordinates[point][0]))\n",
    "                jan_snow.append(float(data[\"properties\"][\"surface_snow_thickness\"][point]))\n",
    "    elif data['properties']['time'][0][5:7]=='02':\n",
    "        for point in range (0,len(coordinates)):\n",
    "            if data[\"properties\"][\"surface_snow_thickness\"][point]!=None:\n",
    "                feb_lat.append(float(coordinates[point][1]))\n",
    "                feb_lon.append(float(coordinates[point][0]))\n",
    "                feb_snow.append(float(data[\"properties\"][\"surface_snow_thickness\"][point]))\n",
    "    elif data['properties']['time'][0][5:7]=='03':\n",
    "        for point in range (0,len(coordinates)):\n",
    "            if data[\"properties\"][\"surface_snow_thickness\"][point]!=None:\n",
    "                mar_lat.append(float(coordinates[point][1]))\n",
    "                mar_lon.append(float(coordinates[point][0]))\n",
    "                mar_snow.append(float(data[\"properties\"][\"surface_snow_thickness\"][point]))  \n",
    "    elif data['properties']['time'][0][5:7]=='04':\n",
    "        for point in range (0,len(coordinates)):\n",
    "            if data[\"properties\"][\"surface_snow_thickness\"][point]!=None:\n",
    "                apr_lat.append(float(coordinates[point][1]))\n",
    "                apr_lon.append(float(coordinates[point][0]))\n",
    "                apr_snow.append(float(data[\"properties\"][\"surface_snow_thickness\"][point]))\n",
    "    elif data['properties']['time'][0][5:7]=='05':\n",
    "        for point in range (0,len(coordinates)):\n",
    "            if data[\"properties\"][\"surface_snow_thickness\"][point]!=None:\n",
    "                may_lat.append(float(coordinates[point][1]))\n",
    "                may_lon.append(float(coordinates[point][0]))\n",
    "                may_snow.append(float(data[\"properties\"][\"surface_snow_thickness\"][point]))\n",
    "    elif data['properties']['time'][0][5:7]=='06':\n",
    "        for point in range (0,len(coordinates)):\n",
    "            if data[\"properties\"][\"surface_snow_thickness\"][point]!=None:\n",
    "                jun_lat.append(float(coordinates[point][1]))\n",
    "                jun_lon.append(float(coordinates[point][0]))\n",
    "                jun_snow.append(float(data[\"properties\"][\"surface_snow_thickness\"][point]))\n",
    "                \n",
    "\n",
    "jan_lat = np.array(jan_lat)\n",
    "jan_lat.flatten()\n",
    "                \n",
    "                \n",
    "np.savetxt(save_path+'jan_lat.txt',np.transpose(jan_lat))\n",
    "np.savetxt(save_path+'feb_lat.txt',np.transpose(feb_lat))\n",
    "np.savetxt(save_path+'mar_lat.txt',np.transpose(mar_lat))\n",
    "np.savetxt(save_path+'apr_lat.txt',np.transpose(apr_lat))\n",
    "np.savetxt(save_path+'may_lat.txt',np.transpose(may_lat))\n",
    "np.savetxt(save_path+'jun_lat.txt',np.transpose(jun_lat))\n",
    "np.savetxt(save_path+'jan_lon.txt',np.transpose(jan_lon))\n",
    "np.savetxt(save_path+'feb_lon.txt',np.transpose(feb_lon))\n",
    "np.savetxt(save_path+'mar_lon.txt',np.transpose(mar_lon))\n",
    "np.savetxt(save_path+'apr_lon.txt',np.transpose(apr_lon))\n",
    "np.savetxt(save_path+'may_lon.txt',np.transpose(may_lon))\n",
    "np.savetxt(save_path+'jun_lon.txt',np.transpose(jun_lon))\n",
    "np.savetxt(save_path+'jan_snow.txt',np.transpose(jan_snow))\n",
    "np.savetxt(save_path+'feb_snow.txt',np.transpose(feb_snow))\n",
    "np.savetxt(save_path+'mar_snow.txt',np.transpose(mar_snow))\n",
    "np.savetxt(save_path+'apr_snow.txt',np.transpose(apr_snow))\n",
    "np.savetxt(save_path+'may_snow.txt',np.transpose(may_snow))\n",
    "np.savetxt(save_path+'jun_snow.txt',np.transpose(jun_snow))\n"
   ]
  },
  {
   "cell_type": "code",
   "execution_count": 8,
   "metadata": {},
   "outputs": [
    {
     "data": {
      "text/plain": [
       "13.6541"
      ]
     },
     "execution_count": 8,
     "metadata": {},
     "output_type": "execute_result"
    }
   ],
   "source": [
    "min(apr_lon)"
   ]
  },
  {
   "cell_type": "code",
   "execution_count": null,
   "metadata": {},
   "outputs": [],
   "source": [
    "from mpl_toolkits.basemap import Basemap\n",
    "import matplotlib.pyplot as plt\n",
    "m = Basemap(projection='npstere',boundinglat=70,lon_0=270,resolution='l')\n",
    "m.drawcoastlines()\n",
    "m.fillcontinents(color='coral',lake_color='aqua')\n",
    "# draw parallels and meridians.\n",
    "m.drawparallels(np.arange(-80.,81.,20.))\n",
    "m.drawmeridians(np.arange(-180.,181.,20.))\n",
    "m.drawmapboundary(fill_color='aqua')\n",
    "ax = plt.gca()\n",
    "x,y=(np.transpose(jun_lon), np.transpose(jun_lat))\n",
    "m.hexbin(x, y, C=np.transpose(jun_snow), bins=None)#, vmin=0, vmax=10)\n",
    "#plt.axis([-180, 180, 60, 90])\n",
    "#plt.axis([(x.min()), (x.max()), (y.min()), (y.max())])\n",
    "plt.title(\"North Polar Stereographic Projection\")\n",
    "plt.show()"
   ]
  },
  {
   "cell_type": "code",
   "execution_count": null,
   "metadata": {
    "collapsed": true
   },
   "outputs": [],
   "source": [
    "#snowpit data too sparse and EM data has total ice+snow not separate\n"
   ]
  },
  {
   "cell_type": "code",
   "execution_count": null,
   "metadata": {
    "collapsed": true
   },
   "outputs": [],
   "source": []
  },
  {
   "cell_type": "code",
   "execution_count": null,
   "metadata": {
    "collapsed": true
   },
   "outputs": [],
   "source": []
  },
  {
   "cell_type": "code",
   "execution_count": null,
   "metadata": {
    "collapsed": true
   },
   "outputs": [],
   "source": []
  },
  {
   "cell_type": "code",
   "execution_count": null,
   "metadata": {
    "collapsed": true
   },
   "outputs": [],
   "source": []
  },
  {
   "cell_type": "code",
   "execution_count": null,
   "metadata": {
    "collapsed": true
   },
   "outputs": [],
   "source": []
  }
 ],
 "metadata": {
  "kernelspec": {
   "display_name": "Python 3",
   "language": "python",
   "name": "python3"
  },
  "language_info": {
   "codemirror_mode": {
    "name": "ipython",
    "version": 3
   },
   "file_extension": ".py",
   "mimetype": "text/x-python",
   "name": "python",
   "nbconvert_exporter": "python",
   "pygments_lexer": "ipython3",
   "version": "3.6.1"
  }
 },
 "nbformat": 4,
 "nbformat_minor": 2
}
